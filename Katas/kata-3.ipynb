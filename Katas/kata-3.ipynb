{
 "cells": [
  {
   "cell_type": "markdown",
   "metadata": {},
   "source": [
    "# Kata 2 \n",
    "Advertencia asteroide cerca"
   ]
  },
  {
   "cell_type": "code",
   "execution_count": 2,
   "metadata": {},
   "outputs": [
    {
     "name": "stdout",
     "output_type": "stream",
     "text": [
      "Advertencia un asteroide se acerca a la tierra a una velocidad de 49 km/s!!!!\n"
     ]
    }
   ],
   "source": [
    "velocidadAsteroideEnKms = 49\n",
    "if velocidadAsteroideEnKms > 25:\n",
    "    print(\"Advertencia un asteroide se acerca a la tierra a una velocidad de \" + str(velocidadAsteroideEnKms) + \" km/s!!!!\")\n",
    "else:\n",
    "    print(\"El asteroide tiene una velocidad menor a 25  km/s todo esta correcto\")"
   ]
  },
  {
   "cell_type": "code",
   "execution_count": 3,
   "metadata": {},
   "outputs": [
    {
     "name": "stdout",
     "output_type": "stream",
     "text": [
      "No podras observar nada\n"
     ]
    }
   ],
   "source": [
    "velocidadAsteroideEnKms = 19\n",
    "if velocidadAsteroideEnKms > 20:\n",
    "    print('Mira al cielo, podrias ver un luz provocada por un asteroide')\n",
    "elif velocidadAsteroideEnKms == 20:\n",
    "    print('Mira al cielo, podrias ver un luz provocada por un asteroide')\n",
    "else:\n",
    "    print('No podras observar nada')"
   ]
  },
  {
   "cell_type": "code",
   "execution_count": 1,
   "metadata": {},
   "outputs": [
    {
     "name": "stdout",
     "output_type": "stream",
     "text": [
      "Mira al cielo, podrias ver un luz provocada por un asteroide!\n"
     ]
    }
   ],
   "source": [
    "velocidadAsteroide = 25\n",
    "tamanioAsteroide = 40\n",
    "if velocidadAsteroide > 25 and tamanioAsteroide > 25:\n",
    "    print('Alerta peligro se acerca un asteroide a la tierra que puede causar daños!')\n",
    "elif velocidadAsteroide >= 20:\n",
    "    print('Mira al cielo, podrias ver un luz provocada por un asteroide!')\n",
    "elif tamanioAsteroide < 25:\n",
    "    print('No podras observar nada')\n",
    "else:\n",
    "    print('Nada de que preocuparse')"
   ]
  }
 ],
 "metadata": {
  "interpreter": {
   "hash": "cc0c07bb37a3895adebeec31ba2d96b2bff74b22b9d28b8673174aed6283f454"
  },
  "kernelspec": {
   "display_name": "Python 3.10.2 64-bit (windows store)",
   "language": "python",
   "name": "python3"
  },
  "language_info": {
   "codemirror_mode": {
    "name": "ipython",
    "version": 3
   },
   "file_extension": ".py",
   "mimetype": "text/x-python",
   "name": "python",
   "nbconvert_exporter": "python",
   "pygments_lexer": "ipython3",
   "version": "3.10.2"
  },
  "orig_nbformat": 4
 },
 "nbformat": 4,
 "nbformat_minor": 2
}
