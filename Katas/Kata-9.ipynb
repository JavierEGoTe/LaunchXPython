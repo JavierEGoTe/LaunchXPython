{
 "cells": [
  {
   "cell_type": "markdown",
   "metadata": {},
   "source": [
    "# EJERCICIOS"
   ]
  },
  {
   "cell_type": "code",
   "execution_count": 11,
   "metadata": {},
   "outputs": [
    {
     "name": "stdout",
     "output_type": "stream",
     "text": [
      "The Report:\n",
      "    promedio: 78.33333333333333%\n",
      "    combustibleUno: 80%\n",
      "    combustibleDos: 70%\n",
      "    combustibleTres: 85% \n",
      "    \n",
      "The Report Updated Values:\n",
      "    Total prom: 78.0%\n",
      "    combustibleUno: 88%\n",
      "    combustibleDos: 76%\n",
      "    combustibleTres: 70% \n",
      "    \n"
     ]
    }
   ],
   "source": [
    "def report(combustibleUno, combustibleDos, combustibleTres):\n",
    "    promedio = (combustibleUno + combustibleDos + combustibleTres) / 3\n",
    "    return f\"\"\"The Report:\n",
    "    promedio: {promedio}%\n",
    "    combustibleUno: {combustibleUno}%\n",
    "    combustibleDos: {combustibleDos}%\n",
    "    combustibleTres: {combustibleTres}% \n",
    "    \"\"\"\n",
    "print(report(80, 70, 85))\n",
    " \n",
    "#Nuevos parametros \n",
    "\n",
    "prom([80, 85, 81]) \n",
    "\n",
    "def report(combustibleUno, combustibleDos, combustibleTres):\n",
    "     return f\"\"\"The Report Updated Values:\n",
    "    Total prom: {prom([combustibleUno, combustibleDos, combustibleTres])}%\n",
    "    combustibleUno: {combustibleUno}%\n",
    "    combustibleDos: {combustibleDos}%\n",
    "    combustibleTres: {combustibleTres}% \n",
    "    \"\"\"\n",
    "print(report(88, 76, 70))"
   ]
  },
  {
   "cell_type": "code",
   "execution_count": 19,
   "metadata": {},
   "outputs": [
    {
     "name": "stdout",
     "output_type": "stream",
     "text": [
      "\n",
      "    Mision:  Moon\n",
      "    Tiempo hasta el destino: 65 minutos\n",
      "    Combustible a la izquierda: 500000 litros\n",
      "    \n",
      "\n",
      "    Nuevo Reporte:\n",
      "    \n",
      "    Mision: Moon\n",
      "    Tiempo hasta el destino: 74 minutos\n",
      "    Combustible a la izquierda: 500000\n",
      "    \n",
      "\n",
      "    Nuevo Reporte:\n",
      "    \n",
      "    Mision: Moon\n",
      "    Tiempo hasta el destino: 76 minutos\n",
      "    Combustible a la izquierda: 500000\n",
      "    \n"
     ]
    }
   ],
   "source": [
    "def informe_mision(hora_pre_lanzamiento, tiempo_vuelo, destino, tanque_exte, tanque_inte):\n",
    "    return f\"\"\"\n",
    "    Mision:  {destino}\n",
    "    Tiempo hasta el destino: {hora_pre_lanzamiento + tiempo_vuelo} minutos\n",
    "    Combustible a la izquierda: {tanque_exte + tanque_inte} litros\n",
    "    \"\"\"\n",
    "print(informe_mision(14, 51, \"Moon\", 200000, 300000))\n",
    "\n",
    "#Nuevo Reporte \n",
    "\n",
    "def informe_mision(destino, *minutos, **fuel_reservoirs):\n",
    "    return f\"\"\"\n",
    "    Nuevo Reporte:\n",
    "    \n",
    "    Mision: {destino}\n",
    "    Tiempo hasta el destino: {sum(minutos)} minutos\n",
    "    Combustible a la izquierda: {sum(fuel_reservoirs.values())}\n",
    "    \"\"\"\n",
    "    for tank_name, litros in fuel_reservoirs.items():\n",
    "        main_report += f\"{tank_name} tank --> {gallons} gallons left\\n\"\n",
    "    return main_report\n",
    "\n",
    "print(informe_mision(\"Moon\", 8, 11, 55, main=300000, external=200000))\n",
    "\n",
    "print(informe_mision(\"Moon\", 10, 15, 51, main=300000, external=200000))"
   ]
  }
 ],
 "metadata": {
  "interpreter": {
   "hash": "150a209df4f9331f17587ecdd8f725ec9e5102b1c410cb3239b9ac7b08cbbc1c"
  },
  "kernelspec": {
   "display_name": "Python 3.8.3 64-bit",
   "language": "python",
   "name": "python3"
  },
  "language_info": {
   "codemirror_mode": {
    "name": "ipython",
    "version": 3
   },
   "file_extension": ".py",
   "mimetype": "text/x-python",
   "name": "python",
   "nbconvert_exporter": "python",
   "pygments_lexer": "ipython3",
   "version": "3.8.3"
  },
  "orig_nbformat": 4
 },
 "nbformat": 4,
 "nbformat_minor": 2
}
