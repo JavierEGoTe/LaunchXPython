{
 "cells": [
  {
   "cell_type": "markdown",
   "metadata": {},
   "source": [
    "# Kata 8 Diccionarios en Python"
   ]
  },
  {
   "cell_type": "markdown",
   "metadata": {},
   "source": [
    "Ejercicio 1: Creacion de diccionarios de Python"
   ]
  },
  {
   "cell_type": "code",
   "execution_count": 6,
   "metadata": {},
   "outputs": [
    {
     "name": "stdout",
     "output_type": "stream",
     "text": [
      "El nombre del planeta es  Marte\n",
      "El numero de lunas de marte es  2\n",
      "Marte tiene una circunferencia polar de  6752\n"
     ]
    }
   ],
   "source": [
    "planeta = {\n",
    "    'nombre' : 'Marte',\n",
    "    'lunas' : 2\n",
    "}\n",
    "print('El nombre del planeta es ',planeta['nombre'])\n",
    "print('El numero de lunas de marte es ',planeta['lunas'])\n",
    "\n",
    "planeta['circunferencia(km)'] ={\n",
    "    'polar':6752,\n",
    "    'ecuatorial':6792\n",
    "}\n",
    "print(planeta['nombre'], \"tiene una circunferencia polar de \",planeta['circunferencia(km)']['polar'])"
   ]
  },
  {
   "cell_type": "code",
   "execution_count": 8,
   "metadata": {},
   "outputs": [
    {
     "name": "stdout",
     "output_type": "stream",
     "text": [
      "El numero de lunas es 214\n",
      "El promedio de lunas por planeta es de  17.833333333333332\n"
     ]
    }
   ],
   "source": [
    "planet_moons = {\n",
    "    'mercury': 0,\n",
    "    'venus': 0,\n",
    "    'earth': 1,\n",
    "    'mars': 2,\n",
    "    'jupiter': 79,\n",
    "    'saturn': 82,\n",
    "    'uranus': 27,\n",
    "    'neptune': 14,\n",
    "    'pluto': 5,\n",
    "    'haumea': 2,\n",
    "    'makemake': 1,\n",
    "    'eris': 1\n",
    "}\n",
    "numeroLunas = 0\n",
    "for value in planet_moons.values():\n",
    "    numeroLunas += value\n",
    "print(\"El numero de lunas es \"+ str(numeroLunas))\n",
    "numeroPlanetas = len(planet_moons)\n",
    "print(\"El promedio de lunas por planeta es de \", numeroLunas/numeroPlanetas)"
   ]
  }
 ],
 "metadata": {
  "interpreter": {
   "hash": "cc0c07bb37a3895adebeec31ba2d96b2bff74b22b9d28b8673174aed6283f454"
  },
  "kernelspec": {
   "display_name": "Python 3.10.2 64-bit (windows store)",
   "language": "python",
   "name": "python3"
  },
  "language_info": {
   "codemirror_mode": {
    "name": "ipython",
    "version": 3
   },
   "file_extension": ".py",
   "mimetype": "text/x-python",
   "name": "python",
   "nbconvert_exporter": "python",
   "pygments_lexer": "ipython3",
   "version": "3.10.2"
  },
  "orig_nbformat": 4
 },
 "nbformat": 4,
 "nbformat_minor": 2
}
