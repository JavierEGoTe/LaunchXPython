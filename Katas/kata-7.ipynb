{
 "cells": [
  {
   "cell_type": "markdown",
   "metadata": {},
   "source": [
    "# Kata 7 Estructuras de control"
   ]
  },
  {
   "cell_type": "markdown",
   "metadata": {},
   "source": [
    "Ejercicio 1: Creación de un bucle \"while\""
   ]
  },
  {
   "cell_type": "code",
   "execution_count": 1,
   "metadata": {},
   "outputs": [],
   "source": [
    "nuevoPlaneta = ''\n",
    "planetas = []\n",
    "while nuevoPlaneta.lower() != 'done':\n",
    "    if nuevoPlaneta:\n",
    "        planetas.append(nuevoPlaneta)\n",
    "    nuevoPlaneta = input(\"Ingresa el nombre de un Planeta\")"
   ]
  },
  {
   "cell_type": "markdown",
   "metadata": {},
   "source": [
    "Ejercicio 2: Crecion de un ciclo \"for\""
   ]
  },
  {
   "cell_type": "code",
   "execution_count": 2,
   "metadata": {},
   "outputs": [
    {
     "name": "stdout",
     "output_type": "stream",
     "text": [
      "Tierra\n",
      "Marte\n",
      "Jupiter\n",
      "Saturno\n"
     ]
    }
   ],
   "source": [
    "for planeta in planetas:\n",
    "    print(planeta)"
   ]
  }
 ],
 "metadata": {
  "interpreter": {
   "hash": "cc0c07bb37a3895adebeec31ba2d96b2bff74b22b9d28b8673174aed6283f454"
  },
  "kernelspec": {
   "display_name": "Python 3.10.2 64-bit (windows store)",
   "language": "python",
   "name": "python3"
  },
  "language_info": {
   "codemirror_mode": {
    "name": "ipython",
    "version": 3
   },
   "file_extension": ".py",
   "mimetype": "text/x-python",
   "name": "python",
   "nbconvert_exporter": "python",
   "pygments_lexer": "ipython3",
   "version": "3.10.2"
  },
  "orig_nbformat": 4
 },
 "nbformat": 4,
 "nbformat_minor": 2
}
