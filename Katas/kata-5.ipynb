{
 "cells": [
  {
   "cell_type": "markdown",
   "metadata": {},
   "source": [
    "# Kata 5 Distancia entre planetas"
   ]
  },
  {
   "cell_type": "markdown",
   "metadata": {},
   "source": [
    "Ejercicio 1"
   ]
  },
  {
   "cell_type": "code",
   "execution_count": 9,
   "metadata": {},
   "outputs": [
    {
     "name": "stdout",
     "output_type": "stream",
     "text": [
      "628949330 km\n",
      "390577533.93 Millas\n"
     ]
    }
   ],
   "source": [
    "distanciaTierra = 149597870 #km\n",
    "distanciaJupiter = 778547200 #km\n",
    "distanciaEntrePlanetas = distanciaTierra - distanciaJupiter\n",
    "distanciaEntrePlanetasMillas = distanciaEntrePlanetas * 0.621\n",
    "print(str(abs(distanciaEntrePlanetas)) + \" km\")\n",
    "print(str(abs(distanciaEntrePlanetasMillas)) + \" Millas\")"
   ]
  },
  {
   "cell_type": "markdown",
   "metadata": {},
   "source": [
    "Ejercicio 2"
   ]
  },
  {
   "cell_type": "code",
   "execution_count": 10,
   "metadata": {},
   "outputs": [
    {
     "name": "stdout",
     "output_type": "stream",
     "text": [
      "Distancia entre los planetas 50300000 km\n",
      "Distancia entre los planetas 31236300.0 Millas\n"
     ]
    }
   ],
   "source": [
    "distanciaPrimerPlaneta = int(input(\"Ingresa la distancia al sol del primer planeta\"))\n",
    "distanciaSegundoPlaneta = int(input(\"Ingresa la distancia al sol del segundo planeta\"))\n",
    "distanciaPlanetas = abs(distanciaPrimerPlaneta - distanciaSegundoPlaneta)\n",
    "print(\"Distancia entre los planetas \" + str(distanciaPlanetas) + \" km\")\n",
    "print(\"Distancia entre los planetas \" + str(distanciaPlanetas * .621) + \" Millas\")\n",
    "\n"
   ]
  }
 ],
 "metadata": {
  "interpreter": {
   "hash": "cc0c07bb37a3895adebeec31ba2d96b2bff74b22b9d28b8673174aed6283f454"
  },
  "kernelspec": {
   "display_name": "Python 3.10.2 64-bit (windows store)",
   "language": "python",
   "name": "python3"
  },
  "language_info": {
   "codemirror_mode": {
    "name": "ipython",
    "version": 3
   },
   "file_extension": ".py",
   "mimetype": "text/x-python",
   "name": "python",
   "nbconvert_exporter": "python",
   "pygments_lexer": "ipython3",
   "version": "3.10.2"
  },
  "orig_nbformat": 4
 },
 "nbformat": 4,
 "nbformat_minor": 2
}
