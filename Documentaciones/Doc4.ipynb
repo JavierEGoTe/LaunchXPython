{
 "cells": [
  {
   "cell_type": "markdown",
   "metadata": {},
   "source": [
    "#Cadenas en Phyton\n"
   ]
  },
  {
   "cell_type": "code",
   "execution_count": 3,
   "metadata": {},
   "outputs": [
    {
     "name": "stdout",
     "output_type": "stream",
     "text": [
      "La luna no tiene atmosfera\n",
      "La luna no tiene atmosfera Ningun sonido puede ser oido en la luna\n",
      "La luna no tiene atmosfera\n"
     ]
    }
   ],
   "source": [
    "hecho = \"La luna no tiene atmosfera\"\n",
    "print(hecho)\n",
    "print(hecho + \" Ningun sonido puede ser oido en la luna\")\n",
    "print(hecho)"
   ]
  },
  {
   "cell_type": "code",
   "execution_count": 4,
   "metadata": {},
   "outputs": [
    {
     "name": "stdout",
     "output_type": "stream",
     "text": [
      "La luna no tiene atmosfera Ningun sonido puede ser oido en la luna\n"
     ]
    }
   ],
   "source": [
    "hechoDos = hecho + \" Ningun sonido puede ser oido en la luna\"\n",
    "print(hechoDos)"
   ]
  },
  {
   "cell_type": "code",
   "execution_count": 6,
   "metadata": {},
   "outputs": [
    {
     "name": "stdout",
     "output_type": "stream",
     "text": [
      "La luna tiene un radio de 1,080 millas\n",
      "The \"near side\" is the part of the Moon that faces the Earth\n",
      "We only see about 60% of the Moon's surface\n",
      "We only see about 60% of the Moon's surface, this is known as the \"near side\".\n"
     ]
    }
   ],
   "source": [
    "radioLuna = \"La luna tiene un radio de 1,080 millas\"\n",
    "cadena = 'The \"near side\" is the part of the Moon that faces the Earth'\n",
    "cadenaDos =\"We only see about 60% of the Moon's surface\"\n",
    "cadenaTres = \"\"\"We only see about 60% of the Moon's surface, this is known as the \"near side\".\"\"\"\n",
    "print(radioLuna)\n",
    "print(cadena)\n",
    "print(cadenaDos)\n",
    "print(cadenaTres)"
   ]
  },
  {
   "cell_type": "code",
   "execution_count": 7,
   "metadata": {},
   "outputs": [
    {
     "name": "stdout",
     "output_type": "stream",
     "text": [
      "Facts about the Moon:\n",
      " There is no atmosphere.\n",
      " There is no sound.\n"
     ]
    }
   ],
   "source": [
    "multiline = \"Facts about the Moon:\\n There is no atmosphere.\\n There is no sound.\"\n",
    "print(multiline)"
   ]
  },
  {
   "cell_type": "code",
   "execution_count": 9,
   "metadata": {},
   "outputs": [
    {
     "name": "stdout",
     "output_type": "stream",
     "text": [
      "Facts about the Moon:\n",
      " There is no atmosphere.\n",
      " There is no sound.\n"
     ]
    }
   ],
   "source": [
    "multiline = \"\"\"Facts about the Moon:\n",
    "...  There is no atmosphere.\n",
    "...  There is no sound.\"\"\"\n",
    "print(multiline)"
   ]
  },
  {
   "cell_type": "code",
   "execution_count": 13,
   "metadata": {},
   "outputs": [
    {
     "name": "stdout",
     "output_type": "stream",
     "text": [
      "Temperatures And Facts About The Moon\n",
      "Temperatures And Facts About The Moon\n",
      "['Daylight:', '260', 'F', '...', 'Nighttime:', '-280', 'F']\n",
      "['Daylight: 260 F', '... Nighttime: -280 F']\n"
     ]
    }
   ],
   "source": [
    "print('temperatures and facts about the moon'.title())\n",
    "heading = 'temperatures and facts about the moon'\n",
    "print(heading.title())\n",
    "temperatures = '''Daylight: 260 F\n",
    "... Nighttime: -280 F'''\n",
    "print(temperatures .split())\n",
    "print(temperatures .split('\\n'))\n"
   ]
  },
  {
   "cell_type": "code",
   "execution_count": 15,
   "metadata": {},
   "outputs": [
    {
     "name": "stdout",
     "output_type": "stream",
     "text": [
      "False\n",
      "True\n"
     ]
    }
   ],
   "source": [
    "print('Moon' in 'This text will describe facts and challenges with space travel')\n",
    "print('Moon' in 'This text will describe facts about the Moon')\n"
   ]
  },
  {
   "cell_type": "code",
   "execution_count": 20,
   "metadata": {},
   "outputs": [
    {
     "name": "stdout",
     "output_type": "stream",
     "text": [
      "-1\n",
      "64\n",
      "1\n",
      "0\n"
     ]
    }
   ],
   "source": [
    "temperatures = \"\"\"Saturn has a daytime temperature of -170 degrees Celsius,\n",
    "... while Mars has -28 Celsius.\"\"\"\n",
    "print(temperatures.find('Moon'))\n",
    "print(temperatures.find('Mars'))\n",
    "print(temperatures.count('Mars'))\n",
    "print(temperatures.count('Moon'))"
   ]
  },
  {
   "cell_type": "code",
   "execution_count": 22,
   "metadata": {},
   "outputs": [
    {
     "name": "stdout",
     "output_type": "stream",
     "text": [
      "the moon and the earth\n",
      "THE MOON AND THE EARTH\n"
     ]
    }
   ],
   "source": [
    "print(\"The Moon And The Earth\".lower())\n",
    "print('The Moon And The Earth'.upper())"
   ]
  },
  {
   "cell_type": "code",
   "execution_count": 25,
   "metadata": {},
   "outputs": [
    {
     "name": "stdout",
     "output_type": "stream",
     "text": [
      "['Mars Average Temperature', ' -60 C']\n",
      " -60 C\n"
     ]
    }
   ],
   "source": [
    "temperatures = 'Mars Average Temperature: -60 C'\n",
    "parts = temperatures.split(':')\n",
    "print(parts)\n",
    "print(parts[-1])"
   ]
  },
  {
   "cell_type": "code",
   "execution_count": 27,
   "metadata": {},
   "outputs": [
    {
     "name": "stdout",
     "output_type": "stream",
     "text": [
      "30\n"
     ]
    }
   ],
   "source": [
    "mars_temperature = 'The highest temperature on Mars is about 30 C'\n",
    "for item in mars_temperature.split():\n",
    "    if item.isnumeric():\n",
    "        print(item)"
   ]
  },
  {
   "cell_type": "code",
   "execution_count": 29,
   "metadata": {},
   "outputs": [
    {
     "name": "stdout",
     "output_type": "stream",
     "text": [
      "True\n",
      "This temperature is in Celsius\n",
      "Saturn has a daytime temperature of -170 degrees C, while Mars has -28 C.\n"
     ]
    }
   ],
   "source": [
    "print('-60'.startswith('-'))\n",
    "if \"30 C\".endswith(\"C\"):\n",
    "    print(\"This temperature is in Celsius\")\n",
    "print('Saturn has a daytime temperature of -170 degrees Celsius, while Mars has -28 Celsius.'.replace('Celsius', 'C'))"
   ]
  },
  {
   "cell_type": "code",
   "execution_count": 30,
   "metadata": {},
   "outputs": [
    {
     "name": "stdout",
     "output_type": "stream",
     "text": [
      "False\n",
      "True\n"
     ]
    }
   ],
   "source": [
    "text = 'Temperatures on the Moon can vary wildly.'\n",
    "print('temperatures' in text)\n",
    "print('temperatures' in text.lower())"
   ]
  },
  {
   "cell_type": "code",
   "execution_count": 31,
   "metadata": {},
   "outputs": [
    {
     "name": "stdout",
     "output_type": "stream",
     "text": [
      "['The Moon is drifting away from the Earth.', 'On average, the Moon is moving about 4cm every year']\n"
     ]
    }
   ],
   "source": [
    "moon_facts = ['The Moon is drifting away from the Earth.', 'On average, the Moon is moving about 4cm every year']\n",
    "'\\n'.join(moon_facts)\n",
    "print(moon_facts)"
   ]
  },
  {
   "cell_type": "code",
   "execution_count": 33,
   "metadata": {},
   "outputs": [
    {
     "name": "stdout",
     "output_type": "stream",
     "text": [
      "On the Moon, you would weigh about 1/6 of your weight on Earth\n",
      "Both sides of the Moon get the same amount of sunlight,\n",
      "    but only one side is seen from Earth because\n",
      "    the Moon rotates around its own axis when it orbits Earth.\n"
     ]
    }
   ],
   "source": [
    "mass_percentage = '1/6'\n",
    "print('On the Moon, you would weigh about %s of your weight on Earth' % mass_percentage)\n",
    "print(\"\"\"Both sides of the %s get the same amount of sunlight,\n",
    "    but only one side is seen from %s because\n",
    "    the %s rotates around its own axis when it orbits %s.\"\"\" % ('Moon', 'Earth', 'Moon', 'Earth'))"
   ]
  },
  {
   "cell_type": "code",
   "execution_count": 40,
   "metadata": {},
   "outputs": [
    {
     "name": "stdout",
     "output_type": "stream",
     "text": [
      "On the Moon, you would weigh about 1/6 of your weight on Earth\n",
      "You are lighter on the Moon, because on the Moon \n",
      "... you would weigh about 1/6 of your weight on Earth\n",
      "You are lighter on the Moon, because on the Moon \n",
      "... you would weigh about 1/6 of your weight on Earth\n"
     ]
    }
   ],
   "source": [
    "mass_percentage = '1/6'\n",
    "print('On the Moon, you would weigh about {} of your weight on Earth'.format(mass_percentage))\n",
    "\n",
    "print(\"\"\"You are lighter on the {0}, because on the {0} \n",
    "... you would weigh about {1} of your weight on Earth\"\"\".format(\"Moon\", mass_percentage))\n",
    "\n",
    "print(\"\"\"You are lighter on the {moon}, because on the {moon} \n",
    "... you would weigh about {mass} of your weight on Earth\"\"\".format(moon=\"Moon\", mass=mass_percentage))"
   ]
  },
  {
   "cell_type": "code",
   "execution_count": 41,
   "metadata": {},
   "outputs": [
    {
     "name": "stdout",
     "output_type": "stream",
     "text": [
      "On the Moon, you would weigh about 1/6 of your weight on Earth\n"
     ]
    }
   ],
   "source": [
    "print(f'On the Moon, you would weigh about {mass_percentage} of your weight on Earth')"
   ]
  },
  {
   "cell_type": "code",
   "execution_count": 43,
   "metadata": {},
   "outputs": [
    {
     "name": "stdout",
     "output_type": "stream",
     "text": [
      "16.7\n",
      "On the Moon, you would weigh about 16.7% of your weight on Earth\n"
     ]
    }
   ],
   "source": [
    "print(round(100/6, 1))\n",
    "print(f'On the Moon, you would weigh about {round(100/6, 1)}% of your weight on Earth')"
   ]
  }
 ],
 "metadata": {
  "interpreter": {
   "hash": "cc0c07bb37a3895adebeec31ba2d96b2bff74b22b9d28b8673174aed6283f454"
  },
  "kernelspec": {
   "display_name": "Python 3.10.2 64-bit (windows store)",
   "language": "python",
   "name": "python3"
  },
  "language_info": {
   "codemirror_mode": {
    "name": "ipython",
    "version": 3
   },
   "file_extension": ".py",
   "mimetype": "text/x-python",
   "name": "python",
   "nbconvert_exporter": "python",
   "pygments_lexer": "ipython3",
   "version": "3.10.2"
  },
  "orig_nbformat": 4
 },
 "nbformat": 4,
 "nbformat_minor": 2
}
